{
 "cells": [
  {
   "cell_type": "code",
   "execution_count": 1,
   "metadata": {},
   "outputs": [],
   "source": [
    "import pandas as pd\n",
    "import numpy as np"
   ]
  },
  {
   "cell_type": "code",
   "execution_count": 2,
   "metadata": {},
   "outputs": [],
   "source": [
    "df = pd.read_csv('animes.csv')"
   ]
  },
  {
   "cell_type": "code",
   "execution_count": 3,
   "metadata": {},
   "outputs": [],
   "source": [
    "df['genre'] = [i.split(', ') for i in df['genre']]"
   ]
  },
  {
   "cell_type": "code",
   "execution_count": 4,
   "metadata": {},
   "outputs": [
    {
     "data": {
      "text/html": [
       "<div>\n",
       "<style scoped>\n",
       "    .dataframe tbody tr th:only-of-type {\n",
       "        vertical-align: middle;\n",
       "    }\n",
       "\n",
       "    .dataframe tbody tr th {\n",
       "        vertical-align: top;\n",
       "    }\n",
       "\n",
       "    .dataframe thead th {\n",
       "        text-align: right;\n",
       "    }\n",
       "</style>\n",
       "<table border=\"1\" class=\"dataframe\">\n",
       "  <thead>\n",
       "    <tr style=\"text-align: right;\">\n",
       "      <th></th>\n",
       "      <th>title</th>\n",
       "      <th>URL</th>\n",
       "      <th>synopsis</th>\n",
       "      <th>genre</th>\n",
       "      <th>score</th>\n",
       "    </tr>\n",
       "  </thead>\n",
       "  <tbody>\n",
       "    <tr>\n",
       "      <th>0</th>\n",
       "      <td>Yu☆Gi☆Oh! Duel Monsters</td>\n",
       "      <td>https://myanimelist.net/anime/481/Yu☆Gi☆Oh_Due...</td>\n",
       "      <td>Legend says that the enigmatic Millennium Puzz...</td>\n",
       "      <td>[Adventure, Game, Shounen]</td>\n",
       "      <td>7.51</td>\n",
       "    </tr>\n",
       "    <tr>\n",
       "      <th>1</th>\n",
       "      <td>Love Hina</td>\n",
       "      <td>https://myanimelist.net/anime/189/Love_Hina</td>\n",
       "      <td>Keitaro Urashima promised a girl when he was y...</td>\n",
       "      <td>[Comedy, Ecchi, Harem, Romance, Shounen, Slice...</td>\n",
       "      <td>7.17</td>\n",
       "    </tr>\n",
       "    <tr>\n",
       "      <th>2</th>\n",
       "      <td>Digimon Adventure 02</td>\n",
       "      <td>https://myanimelist.net/anime/1313/Digimon_Adv...</td>\n",
       "      <td>A few years after the adventures of the Chosen...</td>\n",
       "      <td>[Action, Adventure, Comedy, Drama, Fantasy, Kids]</td>\n",
       "      <td>7.27</td>\n",
       "    </tr>\n",
       "    <tr>\n",
       "      <th>3</th>\n",
       "      <td>Ayashi no Ceres</td>\n",
       "      <td>https://myanimelist.net/anime/104/Ayashi_no_Ceres</td>\n",
       "      <td>Ceres was a tennyo (Celestial maiden) who came...</td>\n",
       "      <td>[Adventure, Comedy, Horror, Psychological, Sup...</td>\n",
       "      <td>7.26</td>\n",
       "    </tr>\n",
       "    <tr>\n",
       "      <th>4</th>\n",
       "      <td>Gensoumaden Saiyuuki</td>\n",
       "      <td>https://myanimelist.net/anime/129/Gensoumaden_...</td>\n",
       "      <td>Many years ago, humans and demons lived in har...</td>\n",
       "      <td>[Adventure, Comedy, Supernatural, Drama, Shounen]</td>\n",
       "      <td>7.61</td>\n",
       "    </tr>\n",
       "  </tbody>\n",
       "</table>\n",
       "</div>"
      ],
      "text/plain": [
       "                     title                                                URL  \\\n",
       "0  Yu☆Gi☆Oh! Duel Monsters  https://myanimelist.net/anime/481/Yu☆Gi☆Oh_Due...   \n",
       "1                Love Hina        https://myanimelist.net/anime/189/Love_Hina   \n",
       "2     Digimon Adventure 02  https://myanimelist.net/anime/1313/Digimon_Adv...   \n",
       "3          Ayashi no Ceres  https://myanimelist.net/anime/104/Ayashi_no_Ceres   \n",
       "4     Gensoumaden Saiyuuki  https://myanimelist.net/anime/129/Gensoumaden_...   \n",
       "\n",
       "                                            synopsis  \\\n",
       "0  Legend says that the enigmatic Millennium Puzz...   \n",
       "1  Keitaro Urashima promised a girl when he was y...   \n",
       "2  A few years after the adventures of the Chosen...   \n",
       "3  Ceres was a tennyo (Celestial maiden) who came...   \n",
       "4  Many years ago, humans and demons lived in har...   \n",
       "\n",
       "                                               genre  score  \n",
       "0                         [Adventure, Game, Shounen]   7.51  \n",
       "1  [Comedy, Ecchi, Harem, Romance, Shounen, Slice...   7.17  \n",
       "2  [Action, Adventure, Comedy, Drama, Fantasy, Kids]   7.27  \n",
       "3  [Adventure, Comedy, Horror, Psychological, Sup...   7.26  \n",
       "4  [Adventure, Comedy, Supernatural, Drama, Shounen]   7.61  "
      ]
     },
     "execution_count": 4,
     "metadata": {},
     "output_type": "execute_result"
    }
   ],
   "source": [
    "df.head()"
   ]
  },
  {
   "cell_type": "code",
   "execution_count": 5,
   "metadata": {},
   "outputs": [
    {
     "name": "stdout",
     "output_type": "stream",
     "text": [
      "NUmber of categories: 43\n"
     ]
    }
   ],
   "source": [
    "# Check the frequency of each category\n",
    "categories = {}\n",
    "for item in df['genre']:\n",
    "    for category in item:\n",
    "        if category in categories:\n",
    "            categories[category] += 1\n",
    "        else:\n",
    "            categories[category] = 0\n",
    "    \n",
    "print(\"NUmber of categories: {}\".format(len(categories)))"
   ]
  },
  {
   "cell_type": "code",
   "execution_count": 6,
   "metadata": {},
   "outputs": [],
   "source": [
    "X = df['synopsis']\n",
    "y = df['genre']"
   ]
  },
  {
   "cell_type": "code",
   "execution_count": 7,
   "metadata": {},
   "outputs": [],
   "source": [
    "import re\n",
    "X = [i.lower() for i in X]\n",
    "X = [re.sub(r'\\W', ' ', i) for i in X]\n",
    "X = [re.sub(r'\\s+', ' ', i) for i in X]"
   ]
  },
  {
   "cell_type": "code",
   "execution_count": 8,
   "metadata": {},
   "outputs": [],
   "source": [
    "from sklearn.feature_extraction.text import CountVectorizer"
   ]
  },
  {
   "cell_type": "code",
   "execution_count": 9,
   "metadata": {
    "scrolled": true
   },
   "outputs": [],
   "source": [
    "vectorizer = CountVectorizer()\n",
    "X = vectorizer.fit_transform(X)"
   ]
  },
  {
   "cell_type": "code",
   "execution_count": 10,
   "metadata": {},
   "outputs": [],
   "source": [
    "X = X.toarray().reshape(X.shape[0], 1, X.shape[1])"
   ]
  },
  {
   "cell_type": "code",
   "execution_count": 11,
   "metadata": {},
   "outputs": [
    {
     "data": {
      "text/plain": [
       "(3889, 1, 16475)"
      ]
     },
     "execution_count": 11,
     "metadata": {},
     "output_type": "execute_result"
    }
   ],
   "source": [
    "X.shape"
   ]
  },
  {
   "cell_type": "code",
   "execution_count": 12,
   "metadata": {},
   "outputs": [],
   "source": [
    "from sklearn.preprocessing import MultiLabelBinarizer"
   ]
  },
  {
   "cell_type": "code",
   "execution_count": 13,
   "metadata": {},
   "outputs": [],
   "source": [
    "mlb = MultiLabelBinarizer()\n",
    "y = mlb.fit_transform(y)"
   ]
  },
  {
   "cell_type": "code",
   "execution_count": 14,
   "metadata": {},
   "outputs": [
    {
     "data": {
      "text/plain": [
       "array(['Action', 'Adventure', 'Cars', 'Comedy', 'Dementia', 'Demons',\n",
       "       'Drama', 'Ecchi', 'Fantasy', 'Game', 'Harem', 'Hentai',\n",
       "       'Historical', 'Horror', 'Josei', 'Kids', 'Magic', 'Martial Arts',\n",
       "       'Mecha', 'Military', 'Music', 'Mystery', 'Parody', 'Police',\n",
       "       'Psychological', 'Romance', 'Samurai', 'School', 'Sci-Fi',\n",
       "       'Seinen', 'Shoujo', 'Shoujo Ai', 'Shounen', 'Shounen Ai',\n",
       "       'Slice of Life', 'Space', 'Sports', 'Super Power', 'Supernatural',\n",
       "       'Thriller', 'Vampire', 'Yaoi', 'Yuri'], dtype=object)"
      ]
     },
     "execution_count": 14,
     "metadata": {},
     "output_type": "execute_result"
    }
   ],
   "source": [
    "mlb.classes_"
   ]
  },
  {
   "cell_type": "code",
   "execution_count": 15,
   "metadata": {},
   "outputs": [],
   "source": [
    "from sklearn.model_selection import train_test_split\n",
    "\n",
    "X_train, X_test, y_train, y_test = train_test_split(X, y, test_size = 0.2)"
   ]
  },
  {
   "cell_type": "code",
   "execution_count": 16,
   "metadata": {},
   "outputs": [
    {
     "data": {
      "text/plain": [
       "(3111, 1, 16475)"
      ]
     },
     "execution_count": 16,
     "metadata": {},
     "output_type": "execute_result"
    }
   ],
   "source": [
    "X_train.shape"
   ]
  },
  {
   "cell_type": "code",
   "execution_count": 17,
   "metadata": {},
   "outputs": [
    {
     "name": "stderr",
     "output_type": "stream",
     "text": [
      "Using TensorFlow backend.\n"
     ]
    }
   ],
   "source": [
    "from keras.models import Sequential\n",
    "from keras.layers import Dense, Dropout, LSTM\n",
    "from keras.optimizers import Adam\n",
    "from keras.metrics import Precision, Recall"
   ]
  },
  {
   "cell_type": "code",
   "execution_count": 18,
   "metadata": {},
   "outputs": [
    {
     "name": "stdout",
     "output_type": "stream",
     "text": [
      "X_train: (3111, 1, 16475), y_train: (3111, 43)\n"
     ]
    }
   ],
   "source": [
    "print(\"X_train: {}, y_train: {}\".format(X_train.shape, y_train.shape))"
   ]
  },
  {
   "cell_type": "code",
   "execution_count": 19,
   "metadata": {},
   "outputs": [
    {
     "name": "stdout",
     "output_type": "stream",
     "text": [
      "Model: \"sequential_1\"\n",
      "_________________________________________________________________\n",
      "Layer (type)                 Output Shape              Param #   \n",
      "=================================================================\n",
      "lstm_1 (LSTM)                (None, 1, 128)            8501248   \n",
      "_________________________________________________________________\n",
      "dropout_1 (Dropout)          (None, 1, 128)            0         \n",
      "_________________________________________________________________\n",
      "lstm_2 (LSTM)                (None, 128)               131584    \n",
      "_________________________________________________________________\n",
      "dropout_2 (Dropout)          (None, 128)               0         \n",
      "_________________________________________________________________\n",
      "dense_1 (Dense)              (None, 64)                8256      \n",
      "_________________________________________________________________\n",
      "dense_2 (Dense)              (None, 64)                4160      \n",
      "_________________________________________________________________\n",
      "dense_3 (Dense)              (None, 64)                4160      \n",
      "_________________________________________________________________\n",
      "dense_4 (Dense)              (None, 43)                2795      \n",
      "=================================================================\n",
      "Total params: 8,652,203\n",
      "Trainable params: 8,652,203\n",
      "Non-trainable params: 0\n",
      "_________________________________________________________________\n"
     ]
    }
   ],
   "source": [
    "model = Sequential()\n",
    "model.add(LSTM(128, input_shape=X_train[0].shape, activation='relu', return_sequences=True))\n",
    "model.add(Dropout(0.2))\n",
    "model.add(LSTM(128, activation='relu'))\n",
    "model.add(Dropout(0.2))\n",
    "\n",
    "model.add(Dense(64, activation='relu'))\n",
    "model.add(Dense(64, activation='relu'))\n",
    "model.add(Dense(64, activation='relu'))\n",
    "model.add(Dense(len(categories), activation='sigmoid'))\n",
    "\n",
    "opt = Adam(lr=1e-3, decay=1e-5)\n",
    "model.compile(loss='binary_crossentropy', optimizer=opt, metrics=['accuracy'])\n",
    "model.summary()"
   ]
  },
  {
   "cell_type": "code",
   "execution_count": 20,
   "metadata": {},
   "outputs": [
    {
     "name": "stdout",
     "output_type": "stream",
     "text": [
      "Epoch 1/100\n",
      "3111/3111 [==============================] - 15s 5ms/step - loss: 0.3822 - accuracy: 0.8611\n",
      "Epoch 2/100\n",
      "3111/3111 [==============================] - 13s 4ms/step - loss: 0.2156 - accuracy: 0.9200\n",
      "Epoch 3/100\n",
      "3111/3111 [==============================] - 13s 4ms/step - loss: 0.1803 - accuracy: 0.9327\n",
      "Epoch 4/100\n",
      "3111/3111 [==============================] - 13s 4ms/step - loss: 0.1469 - accuracy: 0.9441\n",
      "Epoch 5/100\n",
      "3111/3111 [==============================] - 13s 4ms/step - loss: 0.1250 - accuracy: 0.9518\n",
      "Epoch 6/100\n",
      "3111/3111 [==============================] - 13s 4ms/step - loss: 0.1097 - accuracy: 0.9570\n",
      "Epoch 7/100\n",
      "3111/3111 [==============================] - 13s 4ms/step - loss: 0.0984 - accuracy: 0.9611\n",
      "Epoch 8/100\n",
      "3111/3111 [==============================] - 13s 4ms/step - loss: 0.0901 - accuracy: 0.9643\n",
      "Epoch 9/100\n",
      "3111/3111 [==============================] - 13s 4ms/step - loss: 0.0809 - accuracy: 0.9685\n",
      "Epoch 10/100\n",
      "3111/3111 [==============================] - 13s 4ms/step - loss: 0.0723 - accuracy: 0.9718\n",
      "Epoch 11/100\n",
      "3111/3111 [==============================] - 13s 4ms/step - loss: 0.0669 - accuracy: 0.9737\n",
      "Epoch 12/100\n",
      "3111/3111 [==============================] - 13s 4ms/step - loss: 0.0618 - accuracy: 0.9757\n",
      "Epoch 13/100\n",
      "3111/3111 [==============================] - 13s 4ms/step - loss: 0.0575 - accuracy: 0.9771\n",
      "Epoch 14/100\n",
      "3111/3111 [==============================] - 13s 4ms/step - loss: 0.0533 - accuracy: 0.9794\n",
      "Epoch 15/100\n",
      "3111/3111 [==============================] - 13s 4ms/step - loss: 0.0512 - accuracy: 0.9799\n",
      "Epoch 16/100\n",
      "3111/3111 [==============================] - 13s 4ms/step - loss: 0.0487 - accuracy: 0.9811\n",
      "Epoch 17/100\n",
      "3111/3111 [==============================] - 13s 4ms/step - loss: 0.0452 - accuracy: 0.9821\n",
      "Epoch 18/100\n",
      "3111/3111 [==============================] - 13s 4ms/step - loss: 0.0436 - accuracy: 0.9832\n",
      "Epoch 19/100\n",
      "3111/3111 [==============================] - 13s 4ms/step - loss: 0.0426 - accuracy: 0.9830\n",
      "Epoch 20/100\n",
      "3111/3111 [==============================] - 13s 4ms/step - loss: 0.0400 - accuracy: 0.9845\n",
      "Epoch 21/100\n",
      "3111/3111 [==============================] - 13s 4ms/step - loss: 0.0389 - accuracy: 0.9849\n",
      "Epoch 22/100\n",
      "3111/3111 [==============================] - 13s 4ms/step - loss: 0.0367 - accuracy: 0.9857\n",
      "Epoch 23/100\n",
      "3111/3111 [==============================] - 13s 4ms/step - loss: 0.0365 - accuracy: 0.9859\n",
      "Epoch 24/100\n",
      "3111/3111 [==============================] - 13s 4ms/step - loss: 0.0352 - accuracy: 0.9864\n",
      "Epoch 25/100\n",
      "3111/3111 [==============================] - 13s 4ms/step - loss: 0.0338 - accuracy: 0.9870\n",
      "Epoch 26/100\n",
      "3111/3111 [==============================] - 13s 4ms/step - loss: 0.0329 - accuracy: 0.9875\n",
      "Epoch 27/100\n",
      "3111/3111 [==============================] - 13s 4ms/step - loss: 0.0314 - accuracy: 0.9876\n",
      "Epoch 28/100\n",
      "3111/3111 [==============================] - 13s 4ms/step - loss: 0.0313 - accuracy: 0.9882\n",
      "Epoch 29/100\n",
      "3111/3111 [==============================] - 13s 4ms/step - loss: 0.0302 - accuracy: 0.9881\n",
      "Epoch 30/100\n",
      "3111/3111 [==============================] - 13s 4ms/step - loss: 0.0289 - accuracy: 0.9889\n",
      "Epoch 31/100\n",
      "3111/3111 [==============================] - 13s 4ms/step - loss: 0.0294 - accuracy: 0.9885\n",
      "Epoch 32/100\n",
      "3111/3111 [==============================] - 13s 4ms/step - loss: 0.0291 - accuracy: 0.9889\n",
      "Epoch 33/100\n",
      "3111/3111 [==============================] - 13s 4ms/step - loss: 0.0279 - accuracy: 0.9894\n",
      "Epoch 34/100\n",
      "3111/3111 [==============================] - 13s 4ms/step - loss: 0.0273 - accuracy: 0.9895\n",
      "Epoch 35/100\n",
      "3111/3111 [==============================] - 13s 4ms/step - loss: 0.0281 - accuracy: 0.9892\n",
      "Epoch 36/100\n",
      "3111/3111 [==============================] - 13s 4ms/step - loss: 0.0269 - accuracy: 0.9898\n",
      "Epoch 37/100\n",
      "3111/3111 [==============================] - 13s 4ms/step - loss: 0.0266 - accuracy: 0.9897\n",
      "Epoch 38/100\n",
      "3111/3111 [==============================] - 13s 4ms/step - loss: 0.0247 - accuracy: 0.9904\n",
      "Epoch 39/100\n",
      "3111/3111 [==============================] - 17s 5ms/step - loss: 0.0245 - accuracy: 0.9908\n",
      "Epoch 40/100\n",
      "3111/3111 [==============================] - 17s 5ms/step - loss: 0.0256 - accuracy: 0.9905\n",
      "Epoch 41/100\n",
      "3111/3111 [==============================] - 17s 5ms/step - loss: 0.0242 - accuracy: 0.9907\n",
      "Epoch 42/100\n",
      "3111/3111 [==============================] - 16s 5ms/step - loss: 0.0231 - accuracy: 0.9910\n",
      "Epoch 43/100\n",
      "3111/3111 [==============================] - 16s 5ms/step - loss: 0.0233 - accuracy: 0.9911\n",
      "Epoch 44/100\n",
      "3111/3111 [==============================] - 16s 5ms/step - loss: 0.0236 - accuracy: 0.9911\n",
      "Epoch 45/100\n",
      "3111/3111 [==============================] - 16s 5ms/step - loss: 0.0234 - accuracy: 0.9911\n",
      "Epoch 46/100\n",
      "3111/3111 [==============================] - 16s 5ms/step - loss: 0.0218 - accuracy: 0.9916\n",
      "Epoch 47/100\n",
      "3111/3111 [==============================] - 16s 5ms/step - loss: 0.0216 - accuracy: 0.9918\n",
      "Epoch 48/100\n",
      "3111/3111 [==============================] - 16s 5ms/step - loss: 0.0213 - accuracy: 0.9920\n",
      "Epoch 49/100\n",
      "3111/3111 [==============================] - 16s 5ms/step - loss: 0.0216 - accuracy: 0.9918\n",
      "Epoch 50/100\n",
      "3111/3111 [==============================] - 16s 5ms/step - loss: 0.0212 - accuracy: 0.9919\n",
      "Epoch 51/100\n",
      "3111/3111 [==============================] - 16s 5ms/step - loss: 0.0227 - accuracy: 0.9916\n"
     ]
    },
    {
     "data": {
      "text/plain": [
       "<keras.callbacks.callbacks.History at 0x19ff90aeb00>"
      ]
     },
     "execution_count": 20,
     "metadata": {},
     "output_type": "execute_result"
    }
   ],
   "source": [
    "from keras.callbacks import EarlyStopping, ModelCheckpoint\n",
    "\n",
    "callbacks = [\n",
    "    EarlyStopping(monitor='accuracy', patience=3),\n",
    "    ModelCheckpoint('checkpoint.h5')\n",
    "]\n",
    "\n",
    "model.fit(X_train, y_train, epochs=100, callbacks=callbacks)"
   ]
  },
  {
   "cell_type": "code",
   "execution_count": 21,
   "metadata": {},
   "outputs": [
    {
     "data": {
      "text/plain": [
       "array([[1.0488570e-07, 1.7148988e-08, 3.3879336e-12, 9.9997044e-01,\n",
       "        1.6337545e-08, 8.2113819e-13, 4.0292564e-01, 1.6461742e-03,\n",
       "        8.6389900e-07, 1.2232539e-09, 5.3513054e-02, 1.6880174e-04,\n",
       "        6.9032421e-07, 1.3062014e-13, 2.7975168e-06, 1.7878978e-07,\n",
       "        6.6389235e-05, 3.5312325e-10, 1.5700662e-09, 4.4667003e-09,\n",
       "        1.6026612e-06, 6.9757625e-08, 6.7986298e-04, 2.2275289e-07,\n",
       "        9.3273195e-07, 9.9983418e-01, 3.0187355e-10, 7.1215057e-01,\n",
       "        5.8731679e-03, 1.4764420e-04, 4.5932806e-04, 1.6794169e-05,\n",
       "        3.5841015e-04, 2.9283848e-02, 9.0952969e-01, 2.9643596e-10,\n",
       "        1.5755084e-03, 4.2920643e-08, 4.5670473e-05, 2.2749948e-11,\n",
       "        3.6716805e-04, 4.5213646e-06, 5.3609632e-08]], dtype=float32)"
      ]
     },
     "execution_count": 21,
     "metadata": {},
     "output_type": "execute_result"
    }
   ],
   "source": [
    "to_test = np.reshape(X_test[0], (1, X_test[0].shape[0], X_test[0].shape[1]))\n",
    "predictions = model.predict(to_test)\n",
    "predictions"
   ]
  },
  {
   "cell_type": "code",
   "execution_count": 22,
   "metadata": {},
   "outputs": [
    {
     "name": "stdout",
     "output_type": "stream",
     "text": [
      "778/778 [==============================] - 1s 2ms/step\n",
      "{'loss': 0.11463095577179926, 'accuracy': 0.9680456519126892}\n"
     ]
    }
   ],
   "source": [
    "result = model.evaluate(X_test, y_test)\n",
    "print(dict(zip(model.metrics_names, result)))"
   ]
  },
  {
   "cell_type": "code",
   "execution_count": 23,
   "metadata": {},
   "outputs": [],
   "source": [
    "def predict(text):\n",
    "    vectorized_text = vectorizer.transform([text])\n",
    "    vectorized_text = vectorized_text.toarray().reshape(vectorized_text.shape[0], 1, vectorized_text.shape[1])\n",
    "    predictions = model.predict(vectorized_text)\n",
    "    transformed_predictions = []\n",
    "    for prediction in predictions:\n",
    "        final = []\n",
    "        for category in prediction:\n",
    "            if category > 0.4:\n",
    "                final.append(1)\n",
    "            else:\n",
    "                final.append(0)\n",
    "        transformed_predictions.append(final)\n",
    "    transformed_predictions = np.asarray(transformed_predictions)\n",
    "    return mlb.inverse_transform(transformed_predictions)"
   ]
  },
  {
   "cell_type": "code",
   "execution_count": 24,
   "metadata": {},
   "outputs": [
    {
     "data": {
      "text/plain": [
       "[('Comedy', 'Drama', 'Harem', 'Romance', 'School')]"
      ]
     },
     "execution_count": 24,
     "metadata": {},
     "output_type": "execute_result"
    }
   ],
   "source": [
    "predict(\"After a slow but eventful summer vacation, Shuchiin Academy's second term is now starting in full force. As August transitions into September, Miyuki Shirogane's birthday looms ever closer, leaving Kaguya Shinomiya in a serious predicament as to how to celebrate it. Furthermore, the tenure of the school's 67th student council is coming to an end. Due to the council members being in different classes, the only time Kaguya and Miyuki have to be together will soon disappear, putting all of their cunning plans at risk.\")"
   ]
  },
  {
   "cell_type": "code",
   "execution_count": 25,
   "metadata": {},
   "outputs": [
    {
     "data": {
      "text/plain": [
       "[('Comedy', 'Drama', 'Harem', 'Romance', 'School', 'Slice of Life')]"
      ]
     },
     "execution_count": 25,
     "metadata": {},
     "output_type": "execute_result"
    }
   ],
   "source": [
    "predict(\"Kyosuke Kosaka, a normal 17-year-old high school student living in Chiba,[4] has not gotten along with his younger sister Kirino in years. For longer than he can remember, Kirino has ignored his comings and goings and looked at him with spurning eyes. It seemed as if the relationship between Kyosuke and his sister, now fourteen, would continue this way forever. \")"
   ]
  },
  {
   "cell_type": "code",
   "execution_count": 26,
   "metadata": {},
   "outputs": [
    {
     "data": {
      "text/plain": [
       "[('Hentai', 'Romance', 'Yaoi')]"
      ]
     },
     "execution_count": 26,
     "metadata": {},
     "output_type": "execute_result"
    }
   ],
   "source": [
    "predict(\"At home one day, Kyousuke, Kirino's perfectly average brother, stumbles upon an erotic game that belongs to none other than his seemingly flawless little sister. With her reputation at stake, Kirino places a gag order on her sibling while simultaneously introducing him to the world of eroge and anime. Through Kirino, Kyousuke encounters the gothic lolita Ruri Gokou and the bespectacled otaku Saori Makishima, thus jump-starting an entirely new lifestyle. But as he becomes more and more involved in his little sister's secret life, it becomes that much harder to keep under wraps.\")"
   ]
  },
  {
   "cell_type": "code",
   "execution_count": 27,
   "metadata": {},
   "outputs": [],
   "source": [
    "model.save('checkpoint.h5')"
   ]
  },
  {
   "cell_type": "code",
   "execution_count": 29,
   "metadata": {},
   "outputs": [
    {
     "name": "stdout",
     "output_type": "stream",
     "text": [
      "778/778 [==============================] - 1s 2ms/step\n"
     ]
    },
    {
     "data": {
      "text/plain": [
       "[0.11463095577179926, 0.9680456519126892]"
      ]
     },
     "execution_count": 29,
     "metadata": {},
     "output_type": "execute_result"
    }
   ],
   "source": [
    "from keras.models import load_model\n",
    "loaded = load_model('checkpoint.h5')\n",
    "loaded.evaluate(X_test, y_test)"
   ]
  },
  {
   "cell_type": "code",
   "execution_count": null,
   "metadata": {},
   "outputs": [],
   "source": []
  }
 ],
 "metadata": {
  "kernelspec": {
   "display_name": "Python 3",
   "language": "python",
   "name": "python3"
  },
  "language_info": {
   "codemirror_mode": {
    "name": "ipython",
    "version": 3
   },
   "file_extension": ".py",
   "mimetype": "text/x-python",
   "name": "python",
   "nbconvert_exporter": "python",
   "pygments_lexer": "ipython3",
   "version": "3.7.0"
  }
 },
 "nbformat": 4,
 "nbformat_minor": 2
}
